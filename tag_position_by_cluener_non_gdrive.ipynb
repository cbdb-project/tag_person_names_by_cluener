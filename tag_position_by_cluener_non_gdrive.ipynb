{
  "cells": [
    {
      "cell_type": "code",
      "execution_count": 73,
      "metadata": {
        "colab": {
          "base_uri": "https://localhost:8080/"
        },
        "id": "rlCnYzIzZlB4",
        "outputId": "2582bc3d-2280-48e5-a319-0f590fd367fe"
      },
      "outputs": [
        {
          "name": "stdout",
          "output_type": "stream",
          "text": [
            "Requirement already satisfied: transformers in /usr/local/lib/python3.10/dist-packages (4.35.2)\n",
            "Requirement already satisfied: filelock in /usr/local/lib/python3.10/dist-packages (from transformers) (3.13.1)\n",
            "Requirement already satisfied: huggingface-hub<1.0,>=0.16.4 in /usr/local/lib/python3.10/dist-packages (from transformers) (0.19.3)\n",
            "Requirement already satisfied: numpy>=1.17 in /usr/local/lib/python3.10/dist-packages (from transformers) (1.23.5)\n",
            "Requirement already satisfied: packaging>=20.0 in /usr/local/lib/python3.10/dist-packages (from transformers) (23.2)\n",
            "Requirement already satisfied: pyyaml>=5.1 in /usr/local/lib/python3.10/dist-packages (from transformers) (6.0.1)\n",
            "Requirement already satisfied: regex!=2019.12.17 in /usr/local/lib/python3.10/dist-packages (from transformers) (2023.6.3)\n",
            "Requirement already satisfied: requests in /usr/local/lib/python3.10/dist-packages (from transformers) (2.31.0)\n",
            "Requirement already satisfied: tokenizers<0.19,>=0.14 in /usr/local/lib/python3.10/dist-packages (from transformers) (0.15.0)\n",
            "Requirement already satisfied: safetensors>=0.3.1 in /usr/local/lib/python3.10/dist-packages (from transformers) (0.4.0)\n",
            "Requirement already satisfied: tqdm>=4.27 in /usr/local/lib/python3.10/dist-packages (from transformers) (4.66.1)\n",
            "Requirement already satisfied: fsspec>=2023.5.0 in /usr/local/lib/python3.10/dist-packages (from huggingface-hub<1.0,>=0.16.4->transformers) (2023.6.0)\n",
            "Requirement already satisfied: typing-extensions>=3.7.4.3 in /usr/local/lib/python3.10/dist-packages (from huggingface-hub<1.0,>=0.16.4->transformers) (4.5.0)\n",
            "Requirement already satisfied: charset-normalizer<4,>=2 in /usr/local/lib/python3.10/dist-packages (from requests->transformers) (3.3.2)\n",
            "Requirement already satisfied: idna<4,>=2.5 in /usr/local/lib/python3.10/dist-packages (from requests->transformers) (3.4)\n",
            "Requirement already satisfied: urllib3<3,>=1.21.1 in /usr/local/lib/python3.10/dist-packages (from requests->transformers) (2.0.7)\n",
            "Requirement already satisfied: certifi>=2017.4.17 in /usr/local/lib/python3.10/dist-packages (from requests->transformers) (2023.7.22)\n"
          ]
        }
      ],
      "source": [
        "!pip install transformers"
      ]
    },
    {
      "cell_type": "code",
      "execution_count": 74,
      "metadata": {
        "id": "zXgqBG9JZ5Cq"
      },
      "outputs": [],
      "source": [
        "from transformers import AutoModelForTokenClassification,AutoTokenizer,pipeline\n",
        "model = AutoModelForTokenClassification.from_pretrained('uer/roberta-base-finetuned-cluener2020-chinese')\n",
        "tokenizer = AutoTokenizer.from_pretrained('uer/roberta-base-finetuned-cluener2020-chinese', model_max_length=512)\n",
        "ner = pipeline('ner', model=model, tokenizer=tokenizer)"
      ]
    },
    {
      "cell_type": "code",
      "execution_count": 75,
      "metadata": {
        "id": "GZsV7qWSnAdT"
      },
      "outputs": [],
      "source": [
        "def ner_by_cluener(title):\n",
        "  tag_type = \"position\"\n",
        "  ner_result = ner(title)\n",
        "  single_name_str = \"\"\n",
        "  name_list = []\n",
        "  for char_dic in ner_result:\n",
        "    # b_or_i, current_entity_type = char_dic['entity'].split(\"-\")\n",
        "    current_entity_type = char_dic['entity'].split(\"-\")[1]\n",
        "    # Start a new entity\n",
        "    if single_name_str == \"\" and (char_dic['entity'] == f\"B-{tag_type}\" or char_dic['entity'] == f\"I-{tag_type}\"):\n",
        "      single_name_str = char_dic['word']\n",
        "    # Concatenate the entity\n",
        "    elif char_dic['entity'] == f\"I-{tag_type}\":\n",
        "      single_name_str+=char_dic['word']\n",
        "    # B-tag type follows another B-tag type\n",
        "    elif char_dic['entity'] == f\"B-{tag_type}\":\n",
        "      name_list.append(single_name_str)\n",
        "      single_name_str = char_dic['word']\n",
        "    # B-tag type ended by a non-type type\n",
        "    elif single_name_str!= \"\" and tag_type!= current_entity_type:\n",
        "      name_list.append(single_name_str)\n",
        "      single_name_str = \"\"\n",
        "# The last captured entity\n",
        "  if single_name_str != \"\":\n",
        "    name_list.append(single_name_str)\n",
        "  # name_list = [i for i in name_list if len(i)>1]\n",
        "  name_list = list(set(name_list))\n",
        "  print(name_list)\n",
        "  return \";\".join(name_list)"
      ]
    },
    {
      "cell_type": "code",
      "execution_count": 76,
      "metadata": {
        "colab": {
          "base_uri": "https://localhost:8080/"
        },
        "id": "ZihX-RV9aghc",
        "outputId": "63b20ce9-dba5-44f3-ed31-f5c09a6d8bbf"
      },
      "outputs": [
        {
          "name": "stdout",
          "output_type": "stream",
          "text": [
            "Start tagging...\n",
            "[{'entity': 'I-name', 'score': 0.45452666, 'index': 56, 'word': '聰', 'start': 55, 'end': 56}, {'entity': 'B-name', 'score': 0.678319, 'index': 74, 'word': '梁', 'start': 73, 'end': 74}, {'entity': 'B-name', 'score': 0.8970667, 'index': 75, 'word': '王', 'start': 74, 'end': 75}, {'entity': 'I-name', 'score': 0.97592294, 'index': 76, 'word': '濬', 'start': 75, 'end': 76}, {'entity': 'B-position', 'score': 0.75350523, 'index': 78, 'word': '皇', 'start': 77, 'end': 78}, {'entity': 'I-position', 'score': 0.67683053, 'index': 79, 'word': '太', 'start': 78, 'end': 79}, {'entity': 'I-position', 'score': 0.62755257, 'index': 80, 'word': '子', 'start': 79, 'end': 80}, {'entity': 'B-name', 'score': 0.9844667, 'index': 104, 'word': '王', 'start': 103, 'end': 104}, {'entity': 'I-name', 'score': 0.9463046, 'index': 105, 'word': '無', 'start': 104, 'end': 105}, {'entity': 'I-name', 'score': 0.9760482, 'index': 106, 'word': '忌', 'start': 105, 'end': 106}, {'entity': 'B-name', 'score': 0.9063445, 'index': 113, 'word': '諒', 'start': 112, 'end': 113}, {'entity': 'I-name', 'score': 0.8733823, 'index': 114, 'word': '祚', 'start': 113, 'end': 114}, {'entity': 'B-name', 'score': 0.88177854, 'index': 116, 'word': '諒', 'start': 115, 'end': 116}, {'entity': 'I-name', 'score': 0.8583399, 'index': 117, 'word': '祚', 'start': 116, 'end': 117}, {'entity': 'I-position', 'score': 0.73890555, 'index': 129, 'word': '使', 'start': 128, 'end': 129}, {'entity': 'B-name', 'score': 0.96220225, 'index': 130, 'word': '荔', 'start': 129, 'end': 130}, {'entity': 'I-name', 'score': 0.90025485, 'index': 131, 'word': '茂', 'start': 130, 'end': 131}, {'entity': 'I-name', 'score': 0.55399334, 'index': 132, 'word': '先', 'start': 131, 'end': 132}, {'entity': 'B-position', 'score': 0.6458756, 'index': 145, 'word': '邊', 'start': 144, 'end': 145}, {'entity': 'I-position', 'score': 0.59344655, 'index': 146, 'word': '吏', 'start': 145, 'end': 146}, {'entity': 'B-name', 'score': 0.7560031, 'index': 164, 'word': '諒', 'start': 163, 'end': 164}, {'entity': 'I-name', 'score': 0.7190947, 'index': 165, 'word': '祚', 'start': 164, 'end': 165}, {'entity': 'I-name', 'score': 0.3521834, 'index': 180, 'word': '廣', 'start': 179, 'end': 180}, {'entity': 'I-name', 'score': 0.87907994, 'index': 181, 'word': '淵', 'start': 180, 'end': 181}, {'entity': 'B-name', 'score': 0.750396, 'index': 192, 'word': '廣', 'start': 191, 'end': 192}, {'entity': 'I-name', 'score': 0.8084333, 'index': 193, 'word': '淵', 'start': 192, 'end': 193}, {'entity': 'B-position', 'score': 0.73461366, 'index': 215, 'word': '知', 'start': 214, 'end': 215}, {'entity': 'I-position', 'score': 0.6730525, 'index': 216, 'word': '諫', 'start': 215, 'end': 216}, {'entity': 'I-position', 'score': 0.8131542, 'index': 217, 'word': '院', 'start': 216, 'end': 217}, {'entity': 'I-position', 'score': 0.77328837, 'index': 218, 'word': '司', 'start': 217, 'end': 218}, {'entity': 'I-name', 'score': 0.38696995, 'index': 219, 'word': '馬', 'start': 218, 'end': 219}, {'entity': 'I-name', 'score': 0.9658749, 'index': 220, 'word': '光', 'start': 219, 'end': 220}, {'entity': 'I-name', 'score': 0.7197264, 'index': 225, 'word': '淵', 'start': 224, 'end': 225}, {'entity': 'B-position', 'score': 0.86301905, 'index': 240, 'word': '士', 'start': 239, 'end': 240}, {'entity': 'I-position', 'score': 0.8753458, 'index': 241, 'word': '大', 'start': 240, 'end': 241}, {'entity': 'I-position', 'score': 0.8783063, 'index': 242, 'word': '夫', 'start': 241, 'end': 242}, {'entity': 'B-position', 'score': 0.95358455, 'index': 262, 'word': '通', 'start': 261, 'end': 262}, {'entity': 'I-position', 'score': 0.9208276, 'index': 263, 'word': '判', 'start': 262, 'end': 263}, {'entity': 'B-address', 'score': 0.61248565, 'index': 280, 'word': '舒', 'start': 279, 'end': 280}, {'entity': 'I-name', 'score': 0.58877826, 'index': 284, 'word': '紳', 'start': 283, 'end': 284}, {'entity': 'B-name', 'score': 0.9780507, 'index': 360, 'word': '皮', 'start': 359, 'end': 360}, {'entity': 'I-name', 'score': 0.9078521, 'index': 361, 'word': '公', 'start': 360, 'end': 361}, {'entity': 'I-name', 'score': 0.9530053, 'index': 362, 'word': '弼', 'start': 361, 'end': 362}, {'entity': 'I-name', 'score': 0.8012267, 'index': 363, 'word': '權', 'start': 362, 'end': 363}, {'entity': 'B-position', 'score': 0.86045444, 'index': 368, 'word': '判', 'start': 367, 'end': 368}, {'entity': 'I-position', 'score': 0.9437427, 'index': 369, 'word': '官', 'start': 368, 'end': 369}, {'entity': 'B-name', 'score': 0.85677046, 'index': 374, 'word': '廣', 'start': 373, 'end': 374}, {'entity': 'I-name', 'score': 0.89380646, 'index': 375, 'word': '淵', 'start': 374, 'end': 375}]\n",
            "['邊吏', '通判', '知諫院司', '使', '士大夫', '皇太子', '判官']\n"
          ]
        }
      ],
      "source": [
        "import csv\n",
        "import os\n",
        "\n",
        "output = []\n",
        "count = 0\n",
        "temp_output_dir = \"temp_output\"\n",
        "print(\"Start tagging...\")\n",
        "with open(\"input.txt\", 'r', encoding='utf-8') as f_reader:\n",
        "  input_data = [i.rstrip('\\n') for i in f_reader.readlines()]\n",
        "  count_max = len(input_data)\n",
        "  for title in input_data:\n",
        "    if count%2000 == 0 and count != 0:\n",
        "        print(\"{:.2f}% finished...\".format(count/count_max*100))\n",
        "        with open(f\"{temp_output_dir}/output_{count}.csv\", \"w\", encoding='utf-8', newline='') as f_writer:\n",
        "            csv_writer = csv.writer(f_writer)\n",
        "            csv_writer.writerows(output)\n",
        "            output = []\n",
        "    personname_str = ner_by_cluener(title)\n",
        "    output.append([title, personname_str])\n",
        "    count+=1\n",
        "if not os.path.exists(temp_output_dir):\n",
        "    os.mkdir(temp_output_dir)\n",
        "if output != []:\n",
        "  with open(f\"{temp_output_dir}/output_{count}.csv\", \"w\", encoding='utf-8', newline='') as f_writer:\n",
        "    csv_writer = csv.writer(f_writer)\n",
        "    csv_writer.writerows(output)"
      ]
    },
    {
      "cell_type": "code",
      "execution_count": 77,
      "metadata": {
        "colab": {
          "base_uri": "https://localhost:8080/"
        },
        "id": "CPywfEyavX-n",
        "outputId": "e23c070d-091f-440c-b171-e17942f7bee3"
      },
      "outputs": [
        {
          "name": "stdout",
          "output_type": "stream",
          "text": [
            "Combining output...\n",
            "Removing temp data...\n",
            "Done!\n"
          ]
        }
      ],
      "source": [
        "import csv\n",
        "from glob import glob\n",
        "print(\"Combining output...\")\n",
        "count = 0\n",
        "output = []\n",
        "with open(\"output.csv\", \"w\", encoding='utf-8', newline='') as f_writer:\n",
        "    csv_writer = csv.writer(f_writer)\n",
        "    for filename in glob(f\"{temp_output_dir}/*.csv\"):\n",
        "        with open(filename, newline='') as f:\n",
        "            reader = csv.reader(f)\n",
        "            for row in reader:\n",
        "                csv_writer.writerow(row)\n",
        "\n",
        "print(\"Removing temp data...\")\n",
        "!rm -r ./temp_output/*.csv\n",
        "\n",
        "print(\"Done!\")"
      ]
    }
  ],
  "metadata": {
    "accelerator": "GPU",
    "colab": {
      "gpuType": "T4",
      "machine_shape": "hm",
      "provenance": []
    },
    "kernelspec": {
      "display_name": "Python 3",
      "name": "python3"
    },
    "language_info": {
      "name": "python"
    }
  },
  "nbformat": 4,
  "nbformat_minor": 0
}
